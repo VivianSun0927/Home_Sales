{
  "cells": [
    {
      "cell_type": "code",
      "execution_count": 2,
      "metadata": {
        "colab": {
          "base_uri": "https://localhost:8080/"
        },
        "id": "a_KW73O2e3dw",
        "outputId": "de83137f-14d1-4be3-fda6-64c4b698b472"
      },
      "outputs": [
        {
          "output_type": "stream",
          "name": "stdout",
          "text": [
            "\r0% [Working]\r            \rGet:1 https://cloud.r-project.org/bin/linux/ubuntu focal-cran40/ InRelease [3,622 B]\n",
            "\r0% [Connecting to archive.ubuntu.com (185.125.190.39)] [Waiting for headers] [1\r0% [Connecting to archive.ubuntu.com (185.125.190.39)] [Waiting for headers] [C\r                                                                               \rGet:2 http://security.ubuntu.com/ubuntu focal-security InRelease [114 kB]\n",
            "Get:3 https://developer.download.nvidia.com/compute/cuda/repos/ubuntu2004/x86_64  InRelease [1,581 B]\n",
            "Hit:4 http://archive.ubuntu.com/ubuntu focal InRelease\n",
            "Hit:5 http://ppa.launchpad.net/c2d4u.team/c2d4u4.0+/ubuntu focal InRelease\n",
            "Get:6 http://archive.ubuntu.com/ubuntu focal-updates InRelease [114 kB]\n",
            "Get:7 https://developer.download.nvidia.com/compute/cuda/repos/ubuntu2004/x86_64  Packages [1,010 kB]\n",
            "Hit:8 http://ppa.launchpad.net/cran/libgit2/ubuntu focal InRelease\n",
            "Hit:9 http://ppa.launchpad.net/deadsnakes/ppa/ubuntu focal InRelease\n",
            "Get:10 http://archive.ubuntu.com/ubuntu focal-backports InRelease [108 kB]\n",
            "Get:11 http://security.ubuntu.com/ubuntu focal-security/main amd64 Packages [2,675 kB]\n",
            "Hit:12 http://ppa.launchpad.net/graphics-drivers/ppa/ubuntu focal InRelease\n",
            "Get:13 http://security.ubuntu.com/ubuntu focal-security/universe amd64 Packages [1,047 kB]\n",
            "Hit:14 http://ppa.launchpad.net/ubuntugis/ppa/ubuntu focal InRelease\n",
            "Get:15 http://archive.ubuntu.com/ubuntu focal-updates/main amd64 Packages [3,157 kB]\n",
            "Get:16 http://archive.ubuntu.com/ubuntu focal-updates/universe amd64 Packages [1,342 kB]\n",
            "Fetched 9,573 kB in 3s (3,098 kB/s)\n",
            "Reading package lists... Done\n"
          ]
        }
      ],
      "source": [
        "import os\n",
        "# Find the latest version of spark 3.x  from http://www.apache.org/dist/spark/ and enter as the spark version\n",
        "# For example:\n",
        "# spark_version = 'spark-3.3.1'\n",
        "spark_version = 'spark-3.4.0'\n",
        "os.environ['SPARK_VERSION']=spark_version\n",
        "\n",
        "# Install Spark and Java\n",
        "!apt-get update\n",
        "!apt-get install openjdk-11-jdk-headless -qq > /dev/null\n",
        "!wget -q http://www.apache.org/dist/spark/$SPARK_VERSION/$SPARK_VERSION-bin-hadoop3.tgz\n",
        "!tar xf $SPARK_VERSION-bin-hadoop3.tgz\n",
        "!pip install -q findspark\n",
        "\n",
        "# Set Environment Variables\n",
        "os.environ[\"JAVA_HOME\"] = \"/usr/lib/jvm/java-11-openjdk-amd64\"\n",
        "os.environ[\"SPARK_HOME\"] = f\"/content/{spark_version}-bin-hadoop3\"\n",
        "\n",
        "# Start a SparkSession\n",
        "import findspark\n",
        "findspark.init()"
      ]
    },
    {
      "cell_type": "code",
      "execution_count": 3,
      "metadata": {
        "id": "2XbWNf1Te5fM"
      },
      "outputs": [],
      "source": [
        "# Import packages\n",
        "from pyspark.sql import SparkSession\n",
        "import time\n",
        "\n",
        "# Create a SparkSession\n",
        "spark = SparkSession.builder.appName(\"SparkSQL\").getOrCreate()"
      ]
    },
    {
      "cell_type": "code",
      "execution_count": 4,
      "metadata": {
        "id": "wOJqxG_RPSwp",
        "colab": {
          "base_uri": "https://localhost:8080/"
        },
        "outputId": "16171a72-4b06-4aaf-ac6a-054244108ed1"
      },
      "outputs": [
        {
          "output_type": "stream",
          "name": "stdout",
          "text": [
            "+--------------------+----------+----------+------+--------+---------+-----------+--------+------+----------+----+\n",
            "|                  id|      date|date_built| price|bedrooms|bathrooms|sqft_living|sqft_lot|floors|waterfront|view|\n",
            "+--------------------+----------+----------+------+--------+---------+-----------+--------+------+----------+----+\n",
            "|f8a53099-ba1c-47d...|2022-04-08|      2016|936923|       4|        3|       3167|   11733|     2|         1|  76|\n",
            "|7530a2d8-1ae3-451...|2021-06-13|      2013|379628|       2|        2|       2235|   14384|     1|         0|  23|\n",
            "|43de979c-0bf0-4c9...|2019-04-12|      2014|417866|       2|        2|       2127|   10575|     2|         0|   0|\n",
            "|b672c137-b88c-48b...|2019-10-16|      2016|239895|       2|        2|       1631|   11149|     2|         0|   0|\n",
            "|e0726d4d-d595-407...|2022-01-08|      2017|424418|       3|        2|       2249|   13878|     2|         0|   4|\n",
            "|5aa00529-0533-46b...|2019-01-30|      2017|218712|       2|        3|       1965|   14375|     2|         0|   7|\n",
            "|131492a1-72e2-4a8...|2020-02-08|      2017|419199|       2|        3|       2062|    8876|     2|         0|   6|\n",
            "|8d54a71b-c520-44e...|2019-07-21|      2010|323956|       2|        3|       1506|   11816|     1|         0|  25|\n",
            "|e81aacfe-17fe-46b...|2020-06-16|      2016|181925|       3|        3|       2137|   11709|     2|         0|  22|\n",
            "|2ed8d509-7372-46d...|2021-08-06|      2015|258710|       3|        3|       1918|    9666|     1|         0|  25|\n",
            "|f876d86f-3c9f-42b...|2019-02-27|      2011|167864|       3|        3|       2471|   13924|     2|         0|  15|\n",
            "|0a2bd445-8508-4d8...|2021-12-30|      2014|337527|       2|        3|       1926|   12556|     1|         0|  23|\n",
            "|941bad30-eb49-4a7...|2020-05-09|      2015|229896|       3|        3|       2197|    8641|     1|         0|   3|\n",
            "|dd61eb34-6589-4c0...|2021-07-25|      2016|210247|       3|        2|       1672|   11986|     2|         0|  28|\n",
            "|f1e4cef7-d151-439...|2019-02-01|      2011|398667|       2|        3|       2331|   11356|     1|         0|   7|\n",
            "|ea620c7b-c2f7-4c6...|2021-05-31|      2011|437958|       3|        3|       2356|   11052|     1|         0|  26|\n",
            "|f233cb41-6f33-4b0...|2021-07-18|      2016|437375|       4|        3|       1704|   11721|     2|         0|  34|\n",
            "|c797ca12-52cd-4b1...|2019-06-08|      2015|288650|       2|        3|       2100|   10419|     2|         0|   7|\n",
            "|0cfe57f3-28c2-472...|2019-10-04|      2015|308313|       3|        3|       1960|    9453|     2|         0|   2|\n",
            "|4566cd2a-ac6e-435...|2019-07-15|      2016|177541|       3|        3|       2130|   10517|     2|         0|  25|\n",
            "+--------------------+----------+----------+------+--------+---------+-----------+--------+------+----------+----+\n",
            "only showing top 20 rows\n",
            "\n"
          ]
        }
      ],
      "source": [
        "# 1. Read in the AWS S3 bucket into a DataFrame.\n",
        "from pyspark import SparkFiles\n",
        "url = \"https://2u-data-curriculum-team.s3.amazonaws.com/dataviz-classroom/v1.2/22-big-data/home_sales_revised.csv\"\n",
        "spark.sparkContext.addFile(url)\n",
        "df = spark.read.csv(SparkFiles.get(\"home_sales_revised.csv\"), header=True, inferSchema=True)\n",
        "df.show()"
      ]
    },
    {
      "cell_type": "code",
      "execution_count": 5,
      "metadata": {
        "id": "RoljcJ7WPpnm"
      },
      "outputs": [],
      "source": [
        "# 2. Create a temporary view of the DataFrame.\n",
        "df.createOrReplaceTempView('sales')\n"
      ]
    },
    {
      "cell_type": "code",
      "execution_count": 8,
      "metadata": {
        "id": "L6fkwOeOmqvq",
        "colab": {
          "base_uri": "https://localhost:8080/"
        },
        "outputId": "052f9267-d4e6-49b8-898c-13d53bd4140a"
      },
      "outputs": [
        {
          "output_type": "stream",
          "name": "stdout",
          "text": [
            "+----+------------------+---------+\n",
            "|year|        avg(price)|avg_price|\n",
            "+----+------------------+---------+\n",
            "|2020|298353.78003169573|298353.78|\n",
            "|2019| 300263.6955128205| 300263.7|\n",
            "|2022| 296363.8845050215|296363.88|\n",
            "|2021|   301819.44398864|301819.44|\n",
            "+----+------------------+---------+\n",
            "\n"
          ]
        }
      ],
      "source": [
        "# 3. What is the average price for a four bedroom house sold in each year rounded to two decimal places?\n",
        "from pyspark.sql.functions import round\n",
        "# Group the data by year and calculate the average price for 4-bedroom houses\n",
        "fourbed_prices = df.filter(df[\"bedrooms\"] == 4).groupBy(df[\"date\"].substr(0, 4).alias(\"year\")).avg(\"price\")\n",
        "\n",
        "# Round the average price to two decimal places\n",
        "fourbed_prices = fourbed_prices.withColumn(\"avg_price\", round(fourbed_prices[\"avg(price)\"], 2))\n",
        "\n",
        "# Show the result\n",
        "fourbed_prices.show()"
      ]
    },
    {
      "cell_type": "code",
      "execution_count": 9,
      "metadata": {
        "id": "l8p_tUS8h8it",
        "colab": {
          "base_uri": "https://localhost:8080/"
        },
        "outputId": "62fbcff1-dc66-4dfe-b38c-1c306fe4b576"
      },
      "outputs": [
        {
          "output_type": "stream",
          "name": "stdout",
          "text": [
            "+----------+------------------+---------+\n",
            "|date_built|        avg(price)|avg_price|\n",
            "+----------+------------------+---------+\n",
            "|      2015| 288770.2966101695| 288770.3|\n",
            "|      2013|295962.27145085804|295962.27|\n",
            "|      2014| 290852.2661870504|290852.27|\n",
            "|      2012| 293683.1872074883|293683.19|\n",
            "|      2016|  290555.073964497|290555.07|\n",
            "|      2010|  292859.615942029|292859.62|\n",
            "|      2011|291117.46706586826|291117.47|\n",
            "|      2017| 292676.7887740029|292676.79|\n",
            "+----------+------------------+---------+\n",
            "\n"
          ]
        }
      ],
      "source": [
        "# 4. What is the average price of a home for each year the home was built that have 3 bedrooms and 3 bathrooms rounded to two decimal places?\n",
        "# Group the data by date_built and calculate the average price for homes with 3 bedrooms and 3 bathrooms\n",
        "threebed_prices = df.filter((df[\"bedrooms\"] == 3) & (df[\"bathrooms\"] == 3)).groupBy(\"date_built\").avg(\"price\")\n",
        "\n",
        "# Round the average price to two decimal places\n",
        "threebed_prices = threebed_prices.withColumn(\"avg_price\", round(threebed_prices[\"avg(price)\"], 2))\n",
        "\n",
        "# Show the result\n",
        "threebed_prices.show()\n"
      ]
    },
    {
      "cell_type": "code",
      "execution_count": 10,
      "metadata": {
        "id": "Y-Eytz64liDU",
        "colab": {
          "base_uri": "https://localhost:8080/"
        },
        "outputId": "09144c39-1df9-49ea-e7dc-a8b9aafba517"
      },
      "outputs": [
        {
          "output_type": "stream",
          "name": "stdout",
          "text": [
            "+----------+------------------+---------+\n",
            "|date_built|        avg(price)|avg_price|\n",
            "+----------+------------------+---------+\n",
            "|      2015| 297609.9679144385|297609.97|\n",
            "|      2013|      303676.79375|303676.79|\n",
            "|      2014| 298264.7183908046|298264.72|\n",
            "|      2012|307539.97402597405|307539.97|\n",
            "|      2016| 293965.1046511628| 293965.1|\n",
            "|      2010| 285010.2215909091|285010.22|\n",
            "|      2011| 276553.8128654971|276553.81|\n",
            "|      2017|280317.57692307694|280317.58|\n",
            "+----------+------------------+---------+\n",
            "\n"
          ]
        }
      ],
      "source": [
        "# 5. What is the average price of a home for each year built that have 3 bedrooms, 3 bathrooms, with two floors,\n",
        "# and are greater than or equal to 2,000 square feet rounded to two decimal places?\n",
        "\n",
        "# Filter the data based on the conditions\n",
        "filtered_data = df.filter((df[\"bedrooms\"] == 3) & (df[\"bathrooms\"] == 3) & (df[\"floors\"] == 2) & (df[\"sqft_living\"] >= 2000))\n",
        "\n",
        "# Group the filtered data by date_built and calculate the average price\n",
        "twofloor_prices = filtered_data.groupBy(\"date_built\").avg(\"price\")\n",
        "\n",
        "# Round the average price to two decimal places\n",
        "twofloor_prices = twofloor_prices.withColumn(\"avg_price\", round(twofloor_prices[\"avg(price)\"], 2))\n",
        "\n",
        "# Show the result\n",
        "twofloor_prices.show()"
      ]
    },
    {
      "cell_type": "code",
      "execution_count": 17,
      "metadata": {
        "colab": {
          "base_uri": "https://localhost:8080/"
        },
        "id": "GUrfgOX1pCRd",
        "outputId": "363177a5-778e-4be1-fd70-1a69e15379da"
      },
      "outputs": [
        {
          "output_type": "stream",
          "name": "stdout",
          "text": [
            "+---------+---------------+\n",
            "|avg(view)|avg_view_rating|\n",
            "+---------+---------------+\n",
            "|   32.264|          32.26|\n",
            "+---------+---------------+\n",
            "\n",
            "--- 0.5618281364440918 seconds ---\n"
          ]
        }
      ],
      "source": [
        "# 6. What is the \"view\" rating for the average price of a home, rounded to two decimal places, where the homes are greater than\n",
        "# or equal to $350,000? Although this is a small dataset, determine the run time for this query.\n",
        "import time\n",
        "start_time_uncached = time.time()\n",
        "\n",
        "# Filter the data based on the price condition\n",
        "filtered_price = df.filter(df[\"price\"] >= 350000)\n",
        "\n",
        "# Calculate the average view rating\n",
        "average_view_rating = filtered_price.agg({\"view\": \"avg\"})\n",
        "\n",
        "# Round the average view rating to two decimal places\n",
        "average_view_rating = average_view_rating.withColumn(\"avg_view_rating\", round(average_view_rating[\"avg(view)\"], 2))\n",
        "\n",
        "# Show the result and print query run time\n",
        "average_view_rating.show()\n",
        "\n",
        "runtime_uncached = time.time() - start_time_uncached\n",
        "print(\"--- %s seconds ---\" % runtime_uncached)"
      ]
    },
    {
      "cell_type": "code",
      "execution_count": 13,
      "metadata": {
        "id": "KAhk3ZD2tFy8"
      },
      "outputs": [],
      "source": [
        "# 7. Cache the the temporary table home_sales.\n",
        "df.cache()\n",
        "# Register the DataFrame as a temporary table\n",
        "df.createOrReplaceTempView(\"home_sales\")"
      ]
    },
    {
      "cell_type": "code",
      "execution_count": 14,
      "metadata": {
        "id": "4opVhbvxtL-i",
        "colab": {
          "base_uri": "https://localhost:8080/"
        },
        "outputId": "46c58f9b-a995-46b0-bf50-c2d22f0a1d19"
      },
      "outputs": [
        {
          "output_type": "execute_result",
          "data": {
            "text/plain": [
              "True"
            ]
          },
          "metadata": {},
          "execution_count": 14
        }
      ],
      "source": [
        "# 8. Check if the table is cached.\n",
        "spark.catalog.isCached('home_sales')"
      ]
    },
    {
      "cell_type": "code",
      "execution_count": 18,
      "metadata": {
        "colab": {
          "base_uri": "https://localhost:8080/"
        },
        "id": "5GnL46lwTSEk",
        "outputId": "91cda65e-4321-4b97-a584-26893b3b40d7"
      },
      "outputs": [
        {
          "output_type": "stream",
          "name": "stdout",
          "text": [
            "+----+------------------+\n",
            "|view|     average_price|\n",
            "+----+------------------+\n",
            "|  31|399856.95135135134|\n",
            "|  85|1056336.7435897435|\n",
            "|  65| 736679.9333333333|\n",
            "|  53|          755214.8|\n",
            "|  78|1080649.3666666667|\n",
            "|  34| 401419.7451923077|\n",
            "|  81|1053472.7878787878|\n",
            "|  28|402124.62176165805|\n",
            "|  76|1058802.7777777778|\n",
            "|  26|401506.96774193546|\n",
            "|  27| 399537.6586826347|\n",
            "|  44|400598.04761904763|\n",
            "|  12| 401501.3243243243|\n",
            "|  91| 1137372.731707317|\n",
            "|  22| 402022.6847826087|\n",
            "|  93|1026006.0606060605|\n",
            "|  47| 398447.4976744186|\n",
            "|   1| 401044.2513368984|\n",
            "|  52| 733780.2608695652|\n",
            "|  13|         398917.98|\n",
            "+----+------------------+\n",
            "only showing top 20 rows\n",
            "\n",
            "--- Runtime with cached data: 0.42078375816345215 seconds ---\n",
            "--- Runtime without cached data: 0.5618281364440918 seconds ---\n"
          ]
        }
      ],
      "source": [
        "# 9. Using the cached data, run the query that filters out the view ratings with average price \n",
        "#  greater than or equal to $350,000. Determine the runtime and compare it to uncached runtime.\n",
        "\n",
        "start_time_cached = time.time()\n",
        "price_query = spark.sql(\"SELECT view, AVG(price) AS average_price FROM home_sales WHERE price >= 350000 GROUP BY view\")\n",
        "\n",
        "# Show the result\n",
        "price_query.show()\n",
        "\n",
        "\n",
        "runtime_cached = time.time() - start_time_cached\n",
        "print(\"--- Runtime with cached data: %s seconds ---\" % runtime_cached)\n",
        "print(\"--- Runtime without cached data: %s seconds ---\" % runtime_uncached)"
      ]
    },
    {
      "cell_type": "code",
      "execution_count": 19,
      "metadata": {
        "id": "Qm12WN9isHBR"
      },
      "outputs": [],
      "source": [
        "# 10. Partition by the \"date_built\" field on the formatted parquet home sales data \n",
        "df.write.partitionBy('date_built').parquet('p_home_sales',mode='overwrite')"
      ]
    },
    {
      "cell_type": "code",
      "execution_count": 20,
      "metadata": {
        "id": "AZ7BgY61sRqY"
      },
      "outputs": [],
      "source": [
        "# 11. Read the parquet formatted data.\n",
        "parquet_df = spark.read.parquet('p_home_sales')"
      ]
    },
    {
      "cell_type": "code",
      "execution_count": 21,
      "metadata": {
        "id": "J6MJkHfvVcvh"
      },
      "outputs": [],
      "source": [
        "# 12. Create a temporary table for the parquet data.\n",
        "parquet_df.createOrReplaceTempView(\"parquet_table\")"
      ]
    },
    {
      "cell_type": "code",
      "execution_count": 22,
      "metadata": {
        "colab": {
          "base_uri": "https://localhost:8080/"
        },
        "id": "G_Vhb52rU1Sn",
        "outputId": "921df6de-b236-431d-ec46-80fced1cc5df"
      },
      "outputs": [
        {
          "output_type": "stream",
          "name": "stdout",
          "text": [
            "+----+-------------+\n",
            "|view|average_price|\n",
            "+----+-------------+\n",
            "|  31|    399856.95|\n",
            "|  85|   1056336.74|\n",
            "|  65|    736679.93|\n",
            "|  53|     755214.8|\n",
            "|  78|   1080649.37|\n",
            "|  34|    401419.75|\n",
            "|  81|   1053472.79|\n",
            "|  28|    402124.62|\n",
            "|  76|   1058802.78|\n",
            "|  26|    401506.97|\n",
            "|  27|    399537.66|\n",
            "|  44|    400598.05|\n",
            "|  12|    401501.32|\n",
            "|  91|   1137372.73|\n",
            "|  22|    402022.68|\n",
            "|  93|   1026006.06|\n",
            "|  47|     398447.5|\n",
            "|   1|    401044.25|\n",
            "|  52|    733780.26|\n",
            "|  13|    398917.98|\n",
            "+----+-------------+\n",
            "only showing top 20 rows\n",
            "\n",
            "--- Runtime with parquet data: 1.3135120868682861 seconds ---\n",
            "--- Runtime with cached data: 0.42078375816345215 seconds ---\n"
          ]
        }
      ],
      "source": [
        "# 13. Run the query that filters out the view ratings with average price of greater than or equal to $350,000 \n",
        "# with the parquet DataFrame. Round your average to two decimal places. \n",
        "# Determine the runtime and compare it to the cached version.\n",
        "\n",
        "parquet_time = time.time()\n",
        "# Run the query\n",
        "\n",
        "parquet_result = spark.sql(\"SELECT view, ROUND(AVG(price), 2) AS average_price FROM parquet_table WHERE price >= 350000 GROUP BY view\")\n",
        "\n",
        "# Show the result\n",
        "parquet_result.show()\n",
        "\n",
        "\n",
        "print(\"--- Runtime with parquet data: %s seconds ---\" % (time.time() - parquet_time))\n",
        "print(\"--- Runtime with cached data: %s seconds ---\" % runtime_cached)"
      ]
    },
    {
      "cell_type": "code",
      "execution_count": 23,
      "metadata": {
        "id": "hjjYzQGjtbq8"
      },
      "outputs": [],
      "source": [
        "# 14. Uncache the home_sales temporary table.\n",
        "spark.catalog.uncacheTable(\"home_sales\")"
      ]
    },
    {
      "cell_type": "code",
      "execution_count": 24,
      "metadata": {
        "id": "Sy9NBvO7tlmm",
        "colab": {
          "base_uri": "https://localhost:8080/"
        },
        "outputId": "6a1fbd47-e93f-4f7f-d103-9338947ae8be"
      },
      "outputs": [
        {
          "output_type": "stream",
          "name": "stdout",
          "text": [
            "False\n"
          ]
        }
      ],
      "source": [
        "# 15. Check if the home_sales is no longer cached\n",
        "is_cached = spark.catalog.isCached(\"home_sales\")\n",
        "print(is_cached)\n"
      ]
    },
    {
      "cell_type": "code",
      "execution_count": null,
      "metadata": {
        "id": "Si-BNruRUGK3"
      },
      "outputs": [],
      "source": []
    }
  ],
  "metadata": {
    "colab": {
      "provenance": []
    },
    "gpuClass": "standard",
    "kernelspec": {
      "display_name": "Python 3 (ipykernel)",
      "language": "python",
      "name": "python3"
    },
    "language_info": {
      "codemirror_mode": {
        "name": "ipython",
        "version": 3
      },
      "file_extension": ".py",
      "mimetype": "text/x-python",
      "name": "python",
      "nbconvert_exporter": "python",
      "pygments_lexer": "ipython3",
      "version": "3.10.4"
    },
    "nteract": {
      "version": "0.28.0"
    }
  },
  "nbformat": 4,
  "nbformat_minor": 0
}